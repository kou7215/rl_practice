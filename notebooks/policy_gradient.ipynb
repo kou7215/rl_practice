{
 "cells": [
  {
   "cell_type": "markdown",
   "metadata": {},
   "source": [
    "# 3x3の迷路ゲームの強化学習"
   ]
  },
  {
   "cell_type": "code",
   "execution_count": 1,
   "metadata": {},
   "outputs": [],
   "source": [
    "import numpy as np\n",
    "import matplotlib.pyplot as plt\n",
    "%matplotlib inline"
   ]
  },
  {
   "cell_type": "markdown",
   "metadata": {},
   "source": [
    "## 進める方向は1, 壁があるならnp.nanとする\n",
    "行がs0 ~ s7. s8はゴールなので方策を定義しない.\n",
    "列は移動する四方向."
   ]
  },
  {
   "cell_type": "code",
   "execution_count": 2,
   "metadata": {},
   "outputs": [],
   "source": [
    "theta_0 = np.array([[np.nan, 1, 1, np.nan],\n",
    "                    [np.nan, 1, np.nan, 1],\n",
    "                    [np.nan, np.nan, 1, 1],\n",
    "                    [1, 1, 1, np.nan],\n",
    "                    [np.nan, np.nan, 1, 1],\n",
    "                    [1, np.nan, np.nan, np.nan],\n",
    "                    [1, np.nan, np.nan, np.nan],\n",
    "                    [1, 1, np.nan, np.nan]])"
   ]
  },
  {
   "cell_type": "code",
   "execution_count": 3,
   "metadata": {},
   "outputs": [
    {
     "data": {
      "text/plain": [
       "array([[nan,  1.,  1., nan],\n",
       "       [nan,  1., nan,  1.],\n",
       "       [nan, nan,  1.,  1.],\n",
       "       [ 1.,  1.,  1., nan],\n",
       "       [nan, nan,  1.,  1.],\n",
       "       [ 1., nan, nan, nan],\n",
       "       [ 1., nan, nan, nan],\n",
       "       [ 1.,  1., nan, nan]])"
      ]
     },
     "execution_count": 3,
     "metadata": {},
     "output_type": "execute_result"
    }
   ],
   "source": [
    "theta_0"
   ]
  },
  {
   "cell_type": "code",
   "execution_count": 4,
   "metadata": {},
   "outputs": [
    {
     "data": {
      "text/plain": [
       "(8, 4)"
      ]
     },
     "execution_count": 4,
     "metadata": {},
     "output_type": "execute_result"
    }
   ],
   "source": [
    "theta_0.shape"
   ]
  },
  {
   "cell_type": "code",
   "execution_count": 5,
   "metadata": {},
   "outputs": [],
   "source": [
    "def simple_convert_into_pi_from_theta(theta):\n",
    "    '''\n",
    "        単純に割合を計算する\n",
    "    '''\n",
    "    [m, n] = theta.shape\n",
    "    pi = np.zeros((m, n))\n",
    "    for i in range(0, m):\n",
    "        pi[i, :] = theta[i, :]/np.nansum(theta[i, :])  # nansum : nanは0としてsumをとる.\n",
    "    pi = np.nan_to_num(pi)  # nan -> 0へ置換.\n",
    "    return pi\n"
   ]
  },
  {
   "cell_type": "markdown",
   "metadata": {},
   "source": [
    "## 初期の方策pi_0を求める"
   ]
  },
  {
   "cell_type": "code",
   "execution_count": 6,
   "metadata": {},
   "outputs": [
    {
     "data": {
      "text/plain": [
       "array([[0.        , 0.5       , 0.5       , 0.        ],\n",
       "       [0.        , 0.5       , 0.        , 0.5       ],\n",
       "       [0.        , 0.        , 0.5       , 0.5       ],\n",
       "       [0.33333333, 0.33333333, 0.33333333, 0.        ],\n",
       "       [0.        , 0.        , 0.5       , 0.5       ],\n",
       "       [1.        , 0.        , 0.        , 0.        ],\n",
       "       [1.        , 0.        , 0.        , 0.        ],\n",
       "       [0.5       , 0.5       , 0.        , 0.        ]])"
      ]
     },
     "execution_count": 6,
     "metadata": {},
     "output_type": "execute_result"
    }
   ],
   "source": [
    "pi_0 = simple_convert_into_pi_from_theta(theta_0)\n",
    "pi_0"
   ]
  },
  {
   "cell_type": "markdown",
   "metadata": {},
   "source": [
    "## 1step移動後の状態sを求める"
   ]
  },
  {
   "cell_type": "code",
   "execution_count": 7,
   "metadata": {},
   "outputs": [],
   "source": [
    "def get_next_s(pi, s):\n",
    "    direction = ['up', 'right', 'down', 'left']\n",
    "    next_direction = np.random.choice(direction, p=pi[s, :])\n",
    "    \n",
    "    if next_direction == 'up':\n",
    "        s_next = s - 3\n",
    "    elif next_direction == 'right':\n",
    "        s_next = s + 1\n",
    "    elif next_direction == 'down':\n",
    "        s_next = s + 3\n",
    "    else:\n",
    "        s_next = s - 1\n",
    "    return s_next"
   ]
  },
  {
   "cell_type": "markdown",
   "metadata": {},
   "source": [
    "## エージェントが迷路をゴールするまで永遠に移動させる関数の定義"
   ]
  },
  {
   "cell_type": "code",
   "execution_count": 8,
   "metadata": {},
   "outputs": [],
   "source": [
    "def goal_maze(pi):\n",
    "    s = 0 # スタート地点\n",
    "    state_history = [0] # エージェントの移動を記録するリスト.\n",
    "    \n",
    "    while(1):\n",
    "        next_s = get_next_s(pi, s)\n",
    "        state_history.append(next_s)\n",
    "        \n",
    "        if next_s == 8:  # goal\n",
    "            break\n",
    "        else:\n",
    "            s = next_s\n",
    "    return state_history"
   ]
  },
  {
   "cell_type": "code",
   "execution_count": 9,
   "metadata": {},
   "outputs": [
    {
     "data": {
      "text/plain": [
       "[0,\n",
       " 1,\n",
       " 2,\n",
       " 5,\n",
       " 2,\n",
       " 1,\n",
       " 0,\n",
       " 1,\n",
       " 0,\n",
       " 3,\n",
       " 4,\n",
       " 3,\n",
       " 4,\n",
       " 7,\n",
       " 4,\n",
       " 3,\n",
       " 0,\n",
       " 1,\n",
       " 2,\n",
       " 1,\n",
       " 0,\n",
       " 3,\n",
       " 6,\n",
       " 3,\n",
       " 4,\n",
       " 3,\n",
       " 0,\n",
       " 1,\n",
       " 2,\n",
       " 1,\n",
       " 2,\n",
       " 1,\n",
       " 2,\n",
       " 5,\n",
       " 2,\n",
       " 5,\n",
       " 2,\n",
       " 1,\n",
       " 2,\n",
       " 5,\n",
       " 2,\n",
       " 1,\n",
       " 0,\n",
       " 1,\n",
       " 0,\n",
       " 1,\n",
       " 2,\n",
       " 5,\n",
       " 2,\n",
       " 5,\n",
       " 2,\n",
       " 1,\n",
       " 0,\n",
       " 3,\n",
       " 0,\n",
       " 3,\n",
       " 6,\n",
       " 3,\n",
       " 0,\n",
       " 3,\n",
       " 0,\n",
       " 1,\n",
       " 0,\n",
       " 1,\n",
       " 2,\n",
       " 5,\n",
       " 2,\n",
       " 1,\n",
       " 2,\n",
       " 5,\n",
       " 2,\n",
       " 1,\n",
       " 0,\n",
       " 1,\n",
       " 0,\n",
       " 3,\n",
       " 4,\n",
       " 7,\n",
       " 4,\n",
       " 7,\n",
       " 8]"
      ]
     },
     "execution_count": 9,
     "metadata": {},
     "output_type": "execute_result"
    }
   ],
   "source": [
    "state_history = goal_maze(pi_0)\n",
    "state_history"
   ]
  },
  {
   "cell_type": "markdown",
   "metadata": {},
   "source": [
    "## ゴール到達までのstep数"
   ]
  },
  {
   "cell_type": "code",
   "execution_count": 10,
   "metadata": {},
   "outputs": [
    {
     "data": {
      "text/plain": [
       "80"
      ]
     },
     "execution_count": 10,
     "metadata": {},
     "output_type": "execute_result"
    }
   ],
   "source": [
    "len(state_history) - 1"
   ]
  },
  {
   "cell_type": "markdown",
   "metadata": {},
   "source": [
    "## 方策勾配法に従ってエージェントを動かす"
   ]
  },
  {
   "cell_type": "code",
   "execution_count": 11,
   "metadata": {},
   "outputs": [],
   "source": [
    "def softmax_convert_into_pi_from_theta(theta):\n",
    "    beta = 1.0\n",
    "    [m, n] = theta.shape\n",
    "    pi = np.zeros((m, n))\n",
    "    \n",
    "    exp_theta = np.exp(beta * theta)\n",
    "    for i in range(0, m):\n",
    "        pi[i, :] = exp_theta[i, :] / np.nansum(exp_theta[i, :])  # 各sに対してsoftmaxから得られる確率値を与える.\n",
    "    \n",
    "    pi = np.nan_to_num(pi)\n",
    "    \n",
    "    return pi"
   ]
  },
  {
   "cell_type": "code",
   "execution_count": 12,
   "metadata": {},
   "outputs": [
    {
     "data": {
      "text/plain": [
       "array([[0.        , 0.5       , 0.5       , 0.        ],\n",
       "       [0.        , 0.5       , 0.        , 0.5       ],\n",
       "       [0.        , 0.        , 0.5       , 0.5       ],\n",
       "       [0.33333333, 0.33333333, 0.33333333, 0.        ],\n",
       "       [0.        , 0.        , 0.5       , 0.5       ],\n",
       "       [1.        , 0.        , 0.        , 0.        ],\n",
       "       [1.        , 0.        , 0.        , 0.        ],\n",
       "       [0.5       , 0.5       , 0.        , 0.        ]])"
      ]
     },
     "execution_count": 12,
     "metadata": {},
     "output_type": "execute_result"
    }
   ],
   "source": [
    "pi_0 = softmax_convert_into_pi_from_theta(theta_0)\n",
    "pi_0"
   ]
  },
  {
   "cell_type": "markdown",
   "metadata": {},
   "source": [
    "## 行動aした際のnext stateを返す"
   ]
  },
  {
   "cell_type": "code",
   "execution_count": 13,
   "metadata": {},
   "outputs": [],
   "source": [
    "def get_action_and_next_s(pi, s):\n",
    "    direction = ['up', 'right', 'down', 'left']\n",
    "    next_direction = np.random.choice(direction, p=pi[s, :])\n",
    "    \n",
    "    if next_direction == 'up':\n",
    "        action = 0\n",
    "        s_next = s - 3\n",
    "    elif next_direction == 'right':\n",
    "        action = 1\n",
    "        s_next = s + 1\n",
    "    elif next_direction == 'down':\n",
    "        action = 2\n",
    "        s_next = s + 3\n",
    "    else:\n",
    "        action = 3\n",
    "        s_next = s - 1\n",
    "    return [action, s_next]"
   ]
  },
  {
   "cell_type": "markdown",
   "metadata": {},
   "source": [
    "## 迷路を解く関数の定義、状態と行動の履歴を出力"
   ]
  },
  {
   "cell_type": "code",
   "execution_count": 14,
   "metadata": {},
   "outputs": [],
   "source": [
    "# [s0, action0]\n",
    "# [s1, action1]\n",
    "# [s2, action2]\n",
    "#     :\n",
    "#     :\n",
    "# [s8, actionN]\n",
    "\n",
    "def goal_maze_ret_s_a(pi):\n",
    "    s = 0\n",
    "    s_a_history = [[0, np.nan]]  # [current_state, previous_action]\n",
    "    \n",
    "    while(1):\n",
    "        [action, next_s] = get_action_and_next_s(pi, s)\n",
    "        s_a_history[-1][1] = action  # 最新の履歴にnext_actionを刻む\n",
    "        \n",
    "        s_a_history.append([next_s, np.nan])  # \n",
    "        \n",
    "        if next_s == 8:  # goal\n",
    "            break\n",
    "        else:\n",
    "            s = next_s\n",
    "    return s_a_history"
   ]
  },
  {
   "cell_type": "code",
   "execution_count": 15,
   "metadata": {},
   "outputs": [
    {
     "data": {
      "text/plain": [
       "[[0, 1],\n",
       " [1, 3],\n",
       " [0, 1],\n",
       " [1, 3],\n",
       " [0, 2],\n",
       " [3, 1],\n",
       " [4, 3],\n",
       " [3, 0],\n",
       " [0, 2],\n",
       " [3, 1],\n",
       " [4, 2],\n",
       " [7, 1],\n",
       " [8, nan]]"
      ]
     },
     "execution_count": 15,
     "metadata": {},
     "output_type": "execute_result"
    }
   ],
   "source": [
    "s_a_history = goal_maze_ret_s_a(pi_0)\n",
    "s_a_history"
   ]
  },
  {
   "cell_type": "markdown",
   "metadata": {},
   "source": [
    "## 方策勾配法に基づいて方策を更新する\n",
    "```math\n",
    "delta_theta = (N_ij - pi[i, j] * N_i) / T\n",
    "            = (N_ij)/T - (pi[i,j] * N_i)/T\n",
    "            = (状態iで行動jが選択されたstep数)/(総step数) - (方策π(i,j)から計算される状態sで行動iが選択される回数の期待値)/(総step数)\n",
    "new_theta = theta + eta*delta_theta\n",
    "```"
   ]
  },
  {
   "cell_type": "code",
   "execution_count": 16,
   "metadata": {},
   "outputs": [],
   "source": [
    "def update_theta(theta, pi, s_a_history):\n",
    "    eta = 0.1\n",
    "    T = len(s_a_history) - 1  # ゴールまでの総ステップ数\n",
    "    \n",
    "    [m, n] = theta.shape\n",
    "    delta_theta = theta.copy()\n",
    "    \n",
    "    for i in range(m):  # i : sに関するidx\n",
    "        for j in range(n):   # j : actionに関するidx\n",
    "            if not np.isnan(theta[i, j]):\n",
    "                # 履歴から状態iのものを取り出す\n",
    "                SA_i = [SA for SA in s_a_history if SA[0] == i]\n",
    "                # 状態iで行動jをしたものを取り出す\n",
    "                SA_ij = [SA for SA in s_a_history if SA == [i, j]]\n",
    "                # 一致しなかったら空リスト\n",
    "                #print('i:', i, ' j:', j)\n",
    "                #print('SA_i : ', SA_i)\n",
    "                #print('SA_ij : ', SA_ij)\n",
    "                #print()\n",
    "                \n",
    "                N_i = len(SA_i)  # 状態i(s∍i)で行動した総回数\n",
    "                N_ij = len(SA_ij)  # 状態i(s∍i)で行動jをとった回数\n",
    "                delta_theta[i, j] = (N_ij - pi[i, j] * N_i) / T  # NOTE ここを起点に読むとよい\n",
    "    new_theta = theta + eta * delta_theta\n",
    "    \n",
    "    return new_theta"
   ]
  },
  {
   "cell_type": "code",
   "execution_count": 17,
   "metadata": {},
   "outputs": [
    {
     "data": {
      "text/plain": [
       "array([[0.        , 0.5       , 0.5       , 0.        ],\n",
       "       [0.        , 0.49583343, 0.        , 0.50416657],\n",
       "       [0.        , 0.        , 0.5       , 0.5       ],\n",
       "       [0.33332562, 0.33611494, 0.33055945, 0.        ],\n",
       "       [0.        , 0.        , 0.5       , 0.5       ],\n",
       "       [1.        , 0.        , 0.        , 0.        ],\n",
       "       [1.        , 0.        , 0.        , 0.        ],\n",
       "       [0.49791668, 0.50208332, 0.        , 0.        ]])"
      ]
     },
     "execution_count": 17,
     "metadata": {},
     "output_type": "execute_result"
    }
   ],
   "source": [
    "new_theta = update_theta(theta_0, pi_0, s_a_history)\n",
    "pi = softmax_convert_into_pi_from_theta(new_theta)\n",
    "pi"
   ]
  },
  {
   "cell_type": "markdown",
   "metadata": {},
   "source": [
    "## 方策勾配法で迷路を解く"
   ]
  },
  {
   "cell_type": "code",
   "execution_count": 18,
   "metadata": {},
   "outputs": [
    {
     "name": "stdout",
     "output_type": "stream",
     "text": [
      "9.995992986744709e-05\n",
      "total step at the end of episode :  4\n"
     ]
    }
   ],
   "source": [
    "stop_eps = 10**-4\n",
    "losses = []\n",
    "theta = theta_0\n",
    "pi = pi_0\n",
    "is_continue = True\n",
    "count = 1\n",
    "while is_continue:\n",
    "    # 現在の方策piに従って移動. 履歴を取得.\n",
    "    s_a_history = goal_maze_ret_s_a(pi)\n",
    "    # 方策勾配法に従ってthetaの更新.\n",
    "    new_theta = update_theta(theta, pi, s_a_history)\n",
    "    # 更新後のthetaから新しい方策piへとsoftmaxで変換する.\n",
    "    new_pi = softmax_convert_into_pi_from_theta(new_theta)\n",
    "    \n",
    "    loss = np.sum(np.abs(new_pi - pi))\n",
    "    losses.append(loss)\n",
    "    \n",
    "    #print(loss)\n",
    "    #print('total step at the end of episode : ', len(s_a_history) - 1)\n",
    "    \n",
    "    if loss < stop_eps:\n",
    "        is_continue = False\n",
    "    else:\n",
    "        theta = new_theta\n",
    "        pi = new_pi\n",
    "        \n",
    "print(loss)\n",
    "print('total step at the end of episode : ', len(s_a_history) - 1)\n",
    "    "
   ]
  },
  {
   "cell_type": "code",
   "execution_count": 19,
   "metadata": {},
   "outputs": [
    {
     "data": {
      "image/png": "[encoded data removed]",
      "text/plain": [
       "<Figure size 432x288 with 1 Axes>"
      ]
     },
     "metadata": {
      "needs_background": "light"
     },
     "output_type": "display_data"
    }
   ],
   "source": [
    "plt.figure()\n",
    "plt.title('loss')\n",
    "plt.plot(np.arange(len(losses)), losses)\n",
    "plt.xlabel('step')\n",
    "plt.ylabel('losss')\n",
    "plt.show()"
   ]
  },
  {
   "cell_type": "code",
   "execution_count": 21,
   "metadata": {},
   "outputs": [
    {
     "data": {
      "text/plain": [
       "array([[0.   , 0.013, 0.987, 0.   ],\n",
       "       [0.   , 0.276, 0.   , 0.724],\n",
       "       [0.   , 0.   , 0.414, 0.586],\n",
       "       [0.012, 0.977, 0.011, 0.   ],\n",
       "       [0.   , 0.   , 0.988, 0.012],\n",
       "       [1.   , 0.   , 0.   , 0.   ],\n",
       "       [1.   , 0.   , 0.   , 0.   ],\n",
       "       [0.017, 0.983, 0.   , 0.   ]])"
      ]
     },
     "execution_count": 21,
     "metadata": {},
     "output_type": "execute_result"
    }
   ],
   "source": [
    "np.set_printoptions(precision=3, suppress=True)\n",
    "pi"
   ]
  },
  {
   "cell_type": "code",
   "execution_count": null,
   "metadata": {},
   "outputs": [],
   "source": []
  }
 ],
 "metadata": {
  "kernelspec": {
   "display_name": "Python 3",
   "language": "python",
   "name": "python3"
  },
  "language_info": {
   "codemirror_mode": {
    "name": "ipython",
    "version": 3
   },
   "file_extension": ".py",
   "mimetype": "text/x-python",
   "name": "python",
   "nbconvert_exporter": "python",
   "pygments_lexer": "ipython3",
   "version": "3.6.7"
  }
 },
 "nbformat": 4,
 "nbformat_minor": 4
}
